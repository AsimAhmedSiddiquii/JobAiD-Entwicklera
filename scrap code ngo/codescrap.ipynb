{
 "cells": [
  {
   "cell_type": "code",
   "execution_count": 9,
   "metadata": {},
   "outputs": [],
   "source": [
    "from selenium import webdriver\n",
    "from bs4 import BeautifulSoup\n",
    "import time\n",
    "import pandas as pd"
   ]
  },
  {
   "cell_type": "code",
   "execution_count": 10,
   "metadata": {},
   "outputs": [],
   "source": [
    "df = pd.DataFrame(columns=['Title','URL','Address','Ratings'])"
   ]
  },
  {
   "cell_type": "code",
   "execution_count": 15,
   "metadata": {},
   "outputs": [
    {
     "name": "stderr",
     "output_type": "stream",
     "text": [
      "C:\\Users\\HP\\AppData\\Local\\Temp/ipykernel_2300/103467045.py:4: DeprecationWarning: executable_path has been deprecated, please pass in a Service object\n",
      "  driver = webdriver.Chrome(\"C:\\\\Users\\\\HP\\\\Desktop\\\\chromedriver.exe\")\n"
     ]
    }
   ],
   "source": [
    "for param in range(1,5):\n",
    "    url = \"https://www.justdial.com/Mumbai/NGOS-For-Blind/nct-11572092\"\n",
    "\n",
    "    driver = webdriver.Chrome(\"C:\\\\Users\\\\HP\\\\Desktop\\\\chromedriver.exe\")\n",
    "    driver.get(url)\n",
    "\n",
    "    time.sleep(10)\n",
    "\n",
    "    soup = BeautifulSoup(driver.page_source,'html5lib')\n",
    "\n",
    "    driver.close()\n",
    "\n",
    "    results = soup.find(class_='results_listing_container')\n",
    "    job_elems = results.find_all('div',class_='resultbox')\n",
    "    # print(job_elems)\n",
    "\n",
    "    for job_elem in job_elems:\n",
    "\n",
    "        # Title of the NGO     \n",
    "        title = job_elem.find('a',class_='resultbox_title_anchor line_clamp_1 font22 fw500 color111').text\n",
    "        # print(title)\n",
    "        \n",
    "        # URL of the NGO     \n",
    "        url = job_elem.find('a',class_='resultbox_title_anchor line_clamp_1 font22 fw500 color111').get('href')\n",
    "        # print(url)\n",
    "\n",
    "        # Rating of the NGO\n",
    "        Rating = job_elem.find('div',class_='resultbox_totalrate mr-6 font14 fw700 colorFFF').text\n",
    "        # print(Rating)\n",
    "       \n",
    "        # NGO Address\n",
    "        address = job_elem.find('div',class_='font15 fw400 color111').text\n",
    "        # print(address)\n",
    "        \n",
    "       \n",
    "    # #   Appending data to the DataFrame \n",
    "        df=df.append({'URL':url,'Title':title,'Ratings':Rating,'Address':address,},ignore_index = True)"
   ]
  },
  {
   "cell_type": "code",
   "execution_count": 17,
   "metadata": {},
   "outputs": [
    {
     "data": {
      "text/plain": [
       "(50, 4)"
      ]
     },
     "execution_count": 17,
     "metadata": {},
     "output_type": "execute_result"
    }
   ],
   "source": [
    "df.shape"
   ]
  },
  {
   "cell_type": "code",
   "execution_count": 18,
   "metadata": {},
   "outputs": [
    {
     "data": {
      "text/html": [
       "<div>\n",
       "<style scoped>\n",
       "    .dataframe tbody tr th:only-of-type {\n",
       "        vertical-align: middle;\n",
       "    }\n",
       "\n",
       "    .dataframe tbody tr th {\n",
       "        vertical-align: top;\n",
       "    }\n",
       "\n",
       "    .dataframe thead th {\n",
       "        text-align: right;\n",
       "    }\n",
       "</style>\n",
       "<table border=\"1\" class=\"dataframe\">\n",
       "  <thead>\n",
       "    <tr style=\"text-align: right;\">\n",
       "      <th></th>\n",
       "      <th>Title</th>\n",
       "      <th>URL</th>\n",
       "      <th>Address</th>\n",
       "      <th>Ratings</th>\n",
       "    </tr>\n",
       "  </thead>\n",
       "  <tbody>\n",
       "    <tr>\n",
       "      <th>0</th>\n",
       "      <td>Mahila Ekta Sangh</td>\n",
       "      <td>/Mumbai/Mahila-Ekta-Sangh-Near-Kherwadi-Police...</td>\n",
       "      <td>Sai Mandir Road Bandra East</td>\n",
       "      <td>4.1</td>\n",
       "    </tr>\n",
       "    <tr>\n",
       "      <th>1</th>\n",
       "      <td>Disha Foundation</td>\n",
       "      <td>/Mumbai/Disha-Foundation-Above-Mahindra-Showro...</td>\n",
       "      <td>Sativali Road Vasai East</td>\n",
       "      <td>4.1</td>\n",
       "    </tr>\n",
       "    <tr>\n",
       "      <th>2</th>\n",
       "      <td>Shravasti Adhar Foundation</td>\n",
       "      <td>/Pune/Shravasti-Adhar-Foundation-Shivane-khada...</td>\n",
       "      <td>Pune,Shivane-khadakwasla</td>\n",
       "      <td>4.3</td>\n",
       "    </tr>\n",
       "    <tr>\n",
       "      <th>3</th>\n",
       "      <td>ShivShahir Dr.Vijay Maharaj Tanpure</td>\n",
       "      <td>/Ahmednagar/ShivShahir-DrVijay-Maharaj-Tanpure...</td>\n",
       "      <td>Ahmednagar,Rahuri</td>\n",
       "      <td>4.5</td>\n",
       "    </tr>\n",
       "    <tr>\n",
       "      <th>4</th>\n",
       "      <td>Hindu Ekta Samaj Sewa Trust</td>\n",
       "      <td>/Delhi/Hindu-Ekta-Samaj-Sewa-Trust-Shakti-Khan...</td>\n",
       "      <td>Delhi,Shakti Khand 3-indirapuram</td>\n",
       "      <td>4.5</td>\n",
       "    </tr>\n",
       "  </tbody>\n",
       "</table>\n",
       "</div>"
      ],
      "text/plain": [
       "                                  Title  \\\n",
       "0                    Mahila Ekta Sangh    \n",
       "1                     Disha Foundation    \n",
       "2           Shravasti Adhar Foundation    \n",
       "3  ShivShahir Dr.Vijay Maharaj Tanpure    \n",
       "4          Hindu Ekta Samaj Sewa Trust    \n",
       "\n",
       "                                                 URL  \\\n",
       "0  /Mumbai/Mahila-Ekta-Sangh-Near-Kherwadi-Police...   \n",
       "1  /Mumbai/Disha-Foundation-Above-Mahindra-Showro...   \n",
       "2  /Pune/Shravasti-Adhar-Foundation-Shivane-khada...   \n",
       "3  /Ahmednagar/ShivShahir-DrVijay-Maharaj-Tanpure...   \n",
       "4  /Delhi/Hindu-Ekta-Samaj-Sewa-Trust-Shakti-Khan...   \n",
       "\n",
       "                            Address Ratings  \n",
       "0       Sai Mandir Road Bandra East     4.1  \n",
       "1          Sativali Road Vasai East     4.1  \n",
       "2          Pune,Shivane-khadakwasla     4.3  \n",
       "3                 Ahmednagar,Rahuri     4.5  \n",
       "4  Delhi,Shakti Khand 3-indirapuram     4.5  "
      ]
     },
     "execution_count": 18,
     "metadata": {},
     "output_type": "execute_result"
    }
   ],
   "source": [
    "df.head()"
   ]
  },
  {
   "cell_type": "code",
   "execution_count": 22,
   "metadata": {},
   "outputs": [],
   "source": [
    "df.to_csv(\"C:\\\\Users\\\\HP\\\\Desktop\\\\ngo_data.csv\",index=False)"
   ]
  }
 ],
 "metadata": {
  "kernelspec": {
   "display_name": "Python 3",
   "language": "python",
   "name": "python3"
  },
  "language_info": {
   "codemirror_mode": {
    "name": "ipython",
    "version": 3
   },
   "file_extension": ".py",
   "mimetype": "text/x-python",
   "name": "python",
   "nbconvert_exporter": "python",
   "pygments_lexer": "ipython3",
   "version": "3.10.4 (tags/v3.10.4:9d38120, Mar 23 2022, 23:13:41) [MSC v.1929 64 bit (AMD64)]"
  },
  "orig_nbformat": 4,
  "vscode": {
   "interpreter": {
    "hash": "a7b46ebd814c76235ffc49b43ff4f5a6d9e210206896146cb71cea1c581b64db"
   }
  }
 },
 "nbformat": 4,
 "nbformat_minor": 2
}
