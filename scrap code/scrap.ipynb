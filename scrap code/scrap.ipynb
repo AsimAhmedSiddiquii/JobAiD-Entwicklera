{
 "cells": [
  {
   "cell_type": "code",
   "execution_count": 1,
   "metadata": {},
   "outputs": [],
   "source": [
    "from selenium import webdriver\n",
    "from bs4 import BeautifulSoup\n",
    "import time\n",
    "import pandas as pd"
   ]
  },
  {
   "cell_type": "code",
   "execution_count": 2,
   "metadata": {},
   "outputs": [],
   "source": [
    "df = pd.DataFrame(columns=['Title','Company','Ratings','Reviews','Experience','Salary','Location','Job_Post_History','URL'])"
   ]
  },
  {
   "cell_type": "code",
   "execution_count": 3,
   "metadata": {},
   "outputs": [
    {
     "name": "stderr",
     "output_type": "stream",
     "text": [
      "C:\\Users\\HP\\AppData\\Local\\Temp/ipykernel_6488/1151287089.py:4: DeprecationWarning: executable_path has been deprecated, please pass in a Service object\n",
      "  driver = webdriver.Chrome(\"C:\\\\Users\\\\HP\\\\Desktop\\\\chromedriver.exe\")\n"
     ]
    }
   ],
   "source": [
    "for param in range(1,5):\n",
    "    url = \"https://www.naukri.com/disability-jobs\"\n",
    "\n",
    "    driver = webdriver.Chrome(\"C:\\\\Users\\\\HP\\\\Desktop\\\\chromedriver.exe\")\n",
    "    driver.get(url)\n",
    "\n",
    "    time.sleep(10)\n",
    "\n",
    "    soup = BeautifulSoup(driver.page_source,'html5lib')\n",
    "\n",
    "    driver.close()\n",
    "\n",
    "    results = soup.find(class_='list')\n",
    "    job_elems = results.find_all('article',class_='jobTuple')\n",
    "\n",
    "    for job_elem in job_elems:\n",
    "\n",
    "        # URL to apply for the job     \n",
    "        URL = job_elem.find('a',class_='title ellipsis').get('href')\n",
    "\n",
    "        # Post Title\n",
    "        Title = job_elem.find('a',class_='title ellipsis').get('title')\n",
    "\n",
    "        # Company Name\n",
    "        Company = job_elem.find('a',class_='subTitle ellipsis fleft').get('title')\n",
    "\n",
    "        # Ratings\n",
    "        rating_span = job_elem.find('span',class_='starRating fleft')\n",
    "        if rating_span is None:\n",
    "            Ratings = \"\"\n",
    "        else:\n",
    "            Ratings = rating_span.text\n",
    "\n",
    "        # Reviews Counts\n",
    "        Review_span = job_elem.find('a',class_='reviewsCount fleft')\n",
    "        if Review_span is None:\n",
    "            Reviews = \"\"\n",
    "        else:\n",
    "            Reviews = Review_span.text\n",
    "\n",
    "        # Years of experience Required\n",
    "        Exp = job_elem.find('li',class_='fleft br2 placeHolderLi experience')\n",
    "        Exp_span = Exp.find('span',class_='ellipsis fleft expwdth')\n",
    "        if Exp_span is None:\n",
    "            Experience = \"\"\n",
    "        else:\n",
    "            Experience = Exp_span.text\n",
    "\n",
    "        # Salary offered for the job\n",
    "        Sal = job_elem.find('li',class_='fleft br2 placeHolderLi salary')\n",
    "        Sal_span = Sal.find('span',class_='ellipsis fleft')\n",
    "        if Sal_span is None:\n",
    "            Salary = \"\"\n",
    "        else:\n",
    "            Salary = Sal_span.text\n",
    "\n",
    "        # Location for the job post\n",
    "        Loc = job_elem.find('li',class_='fleft br2 placeHolderLi location')\n",
    "        Loc_exp = Loc.find('span',class_='ellipsis fleft locWdth')\n",
    "        if Loc_exp is None:\n",
    "            Location = \"\"\n",
    "        else:\n",
    "            Location = Loc_exp.text\n",
    "\n",
    "        # Number of days since job posted\n",
    "        Hist = job_elem.find(\"div\",[\"tupleTagsContainer\",\"fleft \"])\n",
    "        Post_Hist = Hist.find('span',class_='fleft postedDate')\n",
    "        if Post_Hist is None:\n",
    "            Post_History = \"\"\n",
    "        else:\n",
    "            Post_History = Post_Hist.text\n",
    "\n",
    "    #   Appending data to the DataFrame \n",
    "        df=df.append({'URL':URL,'Title':Title,'Company':Company,'Ratings':Ratings,'Reviews':Reviews,'Experience':Experience,'Salary':Salary,'Location':Location,'Job_Post_History':Post_History},ignore_index = True)"
   ]
  },
  {
   "cell_type": "code",
   "execution_count": 4,
   "metadata": {},
   "outputs": [
    {
     "data": {
      "text/plain": [
       "(80, 9)"
      ]
     },
     "execution_count": 4,
     "metadata": {},
     "output_type": "execute_result"
    }
   ],
   "source": [
    "df.shape"
   ]
  },
  {
   "cell_type": "code",
   "execution_count": 5,
   "metadata": {},
   "outputs": [
    {
     "data": {
      "text/html": [
       "<div>\n",
       "<style scoped>\n",
       "    .dataframe tbody tr th:only-of-type {\n",
       "        vertical-align: middle;\n",
       "    }\n",
       "\n",
       "    .dataframe tbody tr th {\n",
       "        vertical-align: top;\n",
       "    }\n",
       "\n",
       "    .dataframe thead th {\n",
       "        text-align: right;\n",
       "    }\n",
       "</style>\n",
       "<table border=\"1\" class=\"dataframe\">\n",
       "  <thead>\n",
       "    <tr style=\"text-align: right;\">\n",
       "      <th></th>\n",
       "      <th>Title</th>\n",
       "      <th>Company</th>\n",
       "      <th>Ratings</th>\n",
       "      <th>Reviews</th>\n",
       "      <th>Experience</th>\n",
       "      <th>Salary</th>\n",
       "      <th>Location</th>\n",
       "      <th>Job_Post_History</th>\n",
       "      <th>URL</th>\n",
       "    </tr>\n",
       "  </thead>\n",
       "  <tbody>\n",
       "    <tr>\n",
       "      <th>0</th>\n",
       "      <td>Assistant Professor- Special Education (Intell...</td>\n",
       "      <td>Amity University</td>\n",
       "      <td>3.8</td>\n",
       "      <td>786 Reviews</td>\n",
       "      <td>2-6 Yrs</td>\n",
       "      <td>Not disclosed</td>\n",
       "      <td>Noida</td>\n",
       "      <td>1 Day Ago</td>\n",
       "      <td>https://www.naukri.com/job-listings-assistant-...</td>\n",
       "    </tr>\n",
       "    <tr>\n",
       "      <th>1</th>\n",
       "      <td>Opening For People with Disability Only</td>\n",
       "      <td>Giftabled Foundation</td>\n",
       "      <td>3.5</td>\n",
       "      <td>4 Reviews</td>\n",
       "      <td>0-5 Yrs</td>\n",
       "      <td>Not disclosed</td>\n",
       "      <td>Hybrid - Hyderabad/Secunderabad, Bangalore/Ben...</td>\n",
       "      <td>24 Days Ago</td>\n",
       "      <td>https://www.naukri.com/job-listings-opening-fo...</td>\n",
       "    </tr>\n",
       "    <tr>\n",
       "      <th>2</th>\n",
       "      <td>Fullstack Software Developer opening For Peopl...</td>\n",
       "      <td>Giftabled Foundation</td>\n",
       "      <td>3.5</td>\n",
       "      <td>4 Reviews</td>\n",
       "      <td>2-6 Yrs</td>\n",
       "      <td>Not disclosed</td>\n",
       "      <td>Hybrid - Pune, Bangalore/Bengaluru, Mumbai (Al...</td>\n",
       "      <td>13 Days Ago</td>\n",
       "      <td>https://www.naukri.com/job-listings-fullstack-...</td>\n",
       "    </tr>\n",
       "    <tr>\n",
       "      <th>3</th>\n",
       "      <td>SBA/ AM/ Manager/ Senior Manager - Analytics -...</td>\n",
       "      <td>Huquo Consulting</td>\n",
       "      <td></td>\n",
       "      <td></td>\n",
       "      <td>4-8 Yrs</td>\n",
       "      <td>Not disclosed</td>\n",
       "      <td>Gurgaon/Gurugram</td>\n",
       "      <td>2 Days Ago</td>\n",
       "      <td>https://www.naukri.com/job-listings-sba-am-man...</td>\n",
       "    </tr>\n",
       "    <tr>\n",
       "      <th>4</th>\n",
       "      <td>SBA/AM/Manager/Senior Manager - Analytics - Gr...</td>\n",
       "      <td>Huquo Consulting Pvt. Ltd</td>\n",
       "      <td></td>\n",
       "      <td></td>\n",
       "      <td>4-8 Yrs</td>\n",
       "      <td>Not disclosed</td>\n",
       "      <td>Gurgaon/Gurugram</td>\n",
       "      <td>3 Days Ago</td>\n",
       "      <td>https://www.naukri.com/job-listings-sba-am-man...</td>\n",
       "    </tr>\n",
       "  </tbody>\n",
       "</table>\n",
       "</div>"
      ],
      "text/plain": [
       "                                               Title  \\\n",
       "0  Assistant Professor- Special Education (Intell...   \n",
       "1            Opening For People with Disability Only   \n",
       "2  Fullstack Software Developer opening For Peopl...   \n",
       "3  SBA/ AM/ Manager/ Senior Manager - Analytics -...   \n",
       "4  SBA/AM/Manager/Senior Manager - Analytics - Gr...   \n",
       "\n",
       "                     Company Ratings      Reviews Experience         Salary  \\\n",
       "0           Amity University     3.8  786 Reviews    2-6 Yrs  Not disclosed   \n",
       "1       Giftabled Foundation     3.5    4 Reviews    0-5 Yrs  Not disclosed   \n",
       "2       Giftabled Foundation     3.5    4 Reviews    2-6 Yrs  Not disclosed   \n",
       "3           Huquo Consulting                         4-8 Yrs  Not disclosed   \n",
       "4  Huquo Consulting Pvt. Ltd                         4-8 Yrs  Not disclosed   \n",
       "\n",
       "                                            Location Job_Post_History  \\\n",
       "0                                              Noida        1 Day Ago   \n",
       "1  Hybrid - Hyderabad/Secunderabad, Bangalore/Ben...      24 Days Ago   \n",
       "2  Hybrid - Pune, Bangalore/Bengaluru, Mumbai (Al...      13 Days Ago   \n",
       "3                                   Gurgaon/Gurugram       2 Days Ago   \n",
       "4                                   Gurgaon/Gurugram       3 Days Ago   \n",
       "\n",
       "                                                 URL  \n",
       "0  https://www.naukri.com/job-listings-assistant-...  \n",
       "1  https://www.naukri.com/job-listings-opening-fo...  \n",
       "2  https://www.naukri.com/job-listings-fullstack-...  \n",
       "3  https://www.naukri.com/job-listings-sba-am-man...  \n",
       "4  https://www.naukri.com/job-listings-sba-am-man...  "
      ]
     },
     "execution_count": 5,
     "metadata": {},
     "output_type": "execute_result"
    }
   ],
   "source": [
    "df.head()"
   ]
  },
  {
   "cell_type": "code",
   "execution_count": 7,
   "metadata": {},
   "outputs": [],
   "source": [
    "df.to_csv(\"Naukri.com_data.csv\",index=False)"
   ]
  }
 ],
 "metadata": {
  "kernelspec": {
   "display_name": "Python 3",
   "language": "python",
   "name": "python3"
  },
  "language_info": {
   "codemirror_mode": {
    "name": "ipython",
    "version": 3
   },
   "file_extension": ".py",
   "mimetype": "text/x-python",
   "name": "python",
   "nbconvert_exporter": "python",
   "pygments_lexer": "ipython3",
   "version": "3.8.9"
  },
  "orig_nbformat": 4,
  "vscode": {
   "interpreter": {
    "hash": "b337b16e1f284c9fe7de692799556d56c1809887abe3f5a49ffeb9e7df151cfb"
   }
  }
 },
 "nbformat": 4,
 "nbformat_minor": 2
}
